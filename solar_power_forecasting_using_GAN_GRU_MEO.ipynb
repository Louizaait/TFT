{
  "cells": [
    {
      "cell_type": "markdown",
      "metadata": {
        "id": "view-in-github",
        "colab_type": "text"
      },
      "source": [
        "<a href=\"https://colab.research.google.com/github/Louizaait/TFT/blob/main/solar_power_forecasting_using_GAN_GRU_MEO.ipynb\" target=\"_parent\"><img src=\"https://colab.research.google.com/assets/colab-badge.svg\" alt=\"Open In Colab\"/></a>"
      ]
    },
    {
      "cell_type": "code",
      "execution_count": 1,
      "metadata": {
        "id": "RpuvGoFNDi2L"
      },
      "outputs": [],
      "source": [
        "%%capture\n",
        "pip install mealpy pyswarm pysolar pvlib"
      ]
    },
    {
      "cell_type": "code",
      "execution_count": null,
      "metadata": {
        "id": "GStlrC9AWS3e"
      },
      "outputs": [],
      "source": [
        "import pandas as pd\n",
        "import numpy as np\n",
        "import matplotlib.pyplot as plt\n",
        "import seaborn as sns\n",
        "\n",
        "import os\n",
        "import plotly.graph_objects as go\n",
        "import joblib\n",
        "\n",
        "from sklearn.preprocessing import MinMaxScaler\n",
        "from sklearn.metrics import mean_squared_error, mean_absolute_error, r2_score\n",
        "\n",
        "from tensorflow import keras\n",
        "from keras.callbacks import EarlyStopping, ModelCheckpoint\n",
        "from keras.models import Sequential,load_model\n",
        "from keras import layers\n",
        "from keras.layers import GRU,Dense, Flatten\n",
        "\n",
        "from pysolar.solar import get_altitude, get_azimuth\n",
        "import pandas as pd\n",
        "import pytz\n",
        "import pvlib\n",
        "from mealpy.physics_based import EO\n"
      ]
    },
    {
      "cell_type": "code",
      "execution_count": null,
      "metadata": {
        "colab": {
          "base_uri": "https://localhost:8080/"
        },
        "id": "uh8l0M7N7l9F",
        "outputId": "5f2ff279-0564-4cd8-fc3f-5dfb1285f6bb"
      },
      "outputs": [
        {
          "output_type": "stream",
          "name": "stdout",
          "text": [
            "--2023-10-03 13:18:00--  https://zenodo.org/record/6906504/files/filtered_pv_power_measurements_ac.csv?download=1\n",
            "Resolving zenodo.org (zenodo.org)... 188.185.124.72\n",
            "Connecting to zenodo.org (zenodo.org)|188.185.124.72|:443... connected.\n",
            "HTTP request sent, awaiting response... 200 OK\n",
            "Length: 2985408767 (2.8G) [text/plain]\n",
            "Saving to: ‘filtered_ac.csv’\n",
            "\n",
            "filtered_ac.csv     100%[===================>]   2.78G  6.55MB/s    in 42m 21s \n",
            "\n",
            "2023-10-03 14:00:23 (1.12 MB/s) - ‘filtered_ac.csv’ saved [2985408767/2985408767]\n",
            "\n"
          ]
        }
      ],
      "source": [
        "!wget https://zenodo.org/record/6906504/files/filtered_pv_power_measurements_ac.csv?download=1 -O filtered_ac.csv\n",
        "#!wget https://zenodo.org/record/6906504/files/filtered_pv_power_measurements_sc.csv?download=1 -O filtered_sc.csv"
      ]
    },
    {
      "cell_type": "code",
      "execution_count": null,
      "metadata": {
        "id": "IgVLgSWTqGDG",
        "colab": {
          "base_uri": "https://localhost:8080/"
        },
        "outputId": "37e7c004-3633-4b5c-f25d-59a22c5f095d"
      },
      "outputs": [
        {
          "output_type": "execute_result",
          "data": {
            "text/plain": [
              "ID103    0\n",
              "dtype: int64"
            ]
          },
          "metadata": {},
          "execution_count": 4
        }
      ],
      "source": [
        "#read a csv file\n",
        "df = pd.read_csv('filtered_ac.csv')\n",
        "# Assuming 'DateTime' is your time column and it is in string format\n",
        "df['DateTime'] = pd.to_datetime(df['DateTime'])\n",
        "# Set 'DateTime' as the index of your dataframe\n",
        "df.set_index('DateTime', inplace=True)\n",
        "\n",
        "# Resample the data to 5-minute intervals\n",
        "df_resampled = df.resample('5T').mean()\n",
        "#fill the missing values\n",
        "df1=df_resampled[['ID103']]# WE ARE ONLY USING POWER DATA FROM ID103 PV which has the least missing values\n",
        "\n",
        "\n",
        "# set params\n",
        "latitude     = 52.11 #KNMI weather station de Bilt\n",
        "longitude    = 5.18  #KNMI weather station de Bilt\n",
        "\n",
        "# Calculate the solar position for each date in the range\n",
        "solpos = pvlib.solarposition.get_solarposition(df1.index, latitude, longitude)\n",
        "\n",
        "# Get the zenith angle for each date in the range\n",
        "zenith_angles = solpos['zenith']\n",
        "\n",
        "# Create a boolean mask that is True for rows where the zenith_angle is less than 85 degrees\n",
        "mask = zenith_angles < 85\n",
        "\n",
        "# Apply the mask to the DataFrame to only keep rows where the mask is True\n",
        "df1 = df1[mask]\n",
        "\n",
        "# filling the missing data\n",
        "shifts = [365, 365*2,-365, -365*2]\n",
        "for shift in shifts:\n",
        "  df1 = df1.fillna(df1.shift(shift, freq='5T'))\n",
        "df1=df1.fillna(method='ffill')\n",
        "df1.isna().sum()"
      ]
    },
    {
      "cell_type": "code",
      "execution_count": null,
      "metadata": {
        "colab": {
          "base_uri": "https://localhost:8080/"
        },
        "id": "B6ZYDq3Ilyb8",
        "outputId": "91525ec1-c8c7-46e3-ceae-013dbe64f90a"
      },
      "outputs": [
        {
          "output_type": "stream",
          "name": "stdout",
          "text": [
            "Final datasets' shapes:\n",
            "X_train: (94839, 12, 1), y_train: (94839, 1)\n",
            "X_test: (47405, 12, 1), y_test: (47405, 1)\n",
            "X_val: (47490, 12, 1), y_val: (47490, 1)\n"
          ]
        }
      ],
      "source": [
        "# Define your date breaks\n",
        "train_end = pd.Timestamp('2015-12-31 23:59:59+00:00')\n",
        "val_end = pd.Timestamp('2016-12-31 23:59:59+00:00')\n",
        "\n",
        "# Create the training, validation, and test sets\n",
        "train = df1[df1.index <= train_end]\n",
        "val = df1[(df1.index > train_end) & (df1.index <= val_end)]\n",
        "test = df1[df1.index > val_end]\n",
        "\n",
        "# Scaling the data\n",
        "scaler=MinMaxScaler().fit(train)\n",
        "joblib.dump(scaler,'scaler.gz')\n",
        "scaler=joblib.load('scaler.gz')\n",
        "\n",
        "def scale_samples(data,scaler):\n",
        "    data=scaler.transform(data)\n",
        "    return data\n",
        "\n",
        "train=scale_samples(train,scaler)\n",
        "test=scale_samples(test,scaler)\n",
        "val=scale_samples(val,scaler)\n",
        "\n",
        "# Turn to supervised problem\n",
        "def shift_samples(data, lookback=12):\n",
        "    data_x = []\n",
        "    data_y = []\n",
        "    for i in range(len(data) - lookback):\n",
        "        x_floats = data[i:i+lookback]\n",
        "        y_floats = data[i+lookback]\n",
        "        data_x.append(x_floats)\n",
        "        data_y.append(y_floats)\n",
        "    return np.array(data_x), np.array(data_y)\n",
        "\n",
        "\n",
        "x_train,y_train=shift_samples(train)\n",
        "x_test,y_test=shift_samples(test)\n",
        "x_val,y_val=shift_samples(val)  # Corrected here\n",
        "\n",
        "print(\"Final datasets' shapes:\")\n",
        "print('X_train: '+str(x_train.shape)+', y_train: '+str(y_train.shape))\n",
        "print('X_test: '+str(x_test.shape)+', y_test: '+str(y_test.shape))\n",
        "print('X_val: '+str(x_val.shape)+', y_val: '+str(y_val.shape))\n"
      ]
    },
    {
      "cell_type": "code",
      "source": [
        "def fitness_function(solution):\n",
        "    model = Sequential()\n",
        "    model.add(layers.Conv1D(int(solution[0]), int(solution[1]), activation='relu',padding='same',input_shape=(x_train.shape[1],1)))\n",
        "    model.add(layers.MaxPooling1D(1))\n",
        "    model.add(layers.Conv1D(int(solution[0]), int(solution[1]), activation='relu',padding='same'))\n",
        "    model.add(layers.GRU(int(solution[2]), dropout=0.1))\n",
        "    model.add(layers.Flatten())\n",
        "    model.add(layers.Dense(1))\n",
        "\n",
        "    model.compile(loss='mse',optimizer='adam')\n",
        "    history2=model.fit(x_train,y_train,epochs=50,batch_size=128,verbose=0,shuffle=False)\n",
        "    x_val,y_val=shift_samples(val)\n",
        "    pred_val=model.predict(x_val)\n",
        "    pred_val=scaler.inverse_transform(pred_val)\n",
        "    y_val=scaler.inverse_transform(y_val)\n",
        "    rmse = np.sqrt(mean_squared_error(y_val, pred_val))\n",
        "    return rmse\n",
        "\n",
        "problem = {\n",
        "    \"fit_func\": fitness_function,\n",
        "    \"lb\": [32, 1, 32],  # Lower bounds of the parameters\n",
        "    \"ub\": [512, 5, 512],  # Upper bounds of the parameters\n",
        "}\n",
        "\n",
        "model = EO.OriginalEO(epoch=50, pop_size=50)\n",
        "best_position, best_fitness = model.solve(problem)\n",
        "\n",
        "print(f\"Best solution: {best_position}, Best fitness: {best_fitness}\")\n"
      ],
      "metadata": {
        "colab": {
          "base_uri": "https://localhost:8080/"
        },
        "id": "gR1UMAh0r0qc",
        "outputId": "87d9f553-8d6d-4216-d68d-f40bd1707b80"
      },
      "execution_count": null,
      "outputs": [
        {
          "output_type": "stream",
          "name": "stdout",
          "text": [
            "1485/1485 [==============================] - 5s 3ms/step\n"
          ]
        },
        {
          "output_type": "stream",
          "name": "stderr",
          "text": [
            "INFO:mealpy.physics_based.EO.OriginalEO:Solving single objective optimization problem.\n"
          ]
        },
        {
          "output_type": "stream",
          "name": "stdout",
          "text": [
            "1485/1485 [==============================] - 4s 2ms/step\n",
            "1485/1485 [==============================] - 4s 2ms/step\n"
          ]
        }
      ]
    },
    {
      "cell_type": "code",
      "source": [
        "# Unpack the best hyperparameters\n",
        "best_conv_1_units, best_conv_2_units, best_gru_units = map(int, best_position)\n",
        "\n",
        "# Build the model with the best hyperparameters\n",
        "model = Sequential()\n",
        "model.add(layers.Conv1D(best_conv_1_units, 5, activation='relu',padding='same',input_shape=(x_train.shape[1],1)))\n",
        "model.add(layers.MaxPooling1D(1))\n",
        "model.add(layers.Conv1D(best_conv_2_units, 5, activation='relu',padding='same'))\n",
        "model.add(layers.GRU(best_gru_units, dropout=0.1))\n",
        "model.add(layers.Flatten())\n",
        "model.add(layers.Dense(1))\n",
        "\n",
        "# Compile and train the model\n",
        "model.compile(loss='mse',optimizer='adam')\n",
        "history2=model.fit(x_train,y_train,validation_data=(x_val,y_val),epochs=30,batch_size=128,verbose=1,shuffle=False)\n",
        "\n",
        "# Make predictions and calculate evaluation metrics\n",
        "pred_test=model.predict(x_test)\n",
        "pred_test=scaler.inverse_transform(pred_test)\n",
        "y_test=scaler.inverse_transform(y_test)\n",
        "rmse = np.sqrt(mean_squared_error(y_test, pred_test))\n",
        "mae = mean_absolute_error(y_test, pred_test)\n",
        "r2 = r2_score(y_test, pred_test)\n",
        "\n",
        "# Print evaluation metrics\n",
        "print(f'RMSE: {rmse:.3f}')\n",
        "print(f'MAE: {mae:.3f}')\n",
        "print(f'R2: {r2:.3f}')\n"
      ],
      "metadata": {
        "id": "rGvDddqarsGp"
      },
      "execution_count": null,
      "outputs": []
    },
    {
      "cell_type": "code",
      "execution_count": null,
      "metadata": {
        "colab": {
          "base_uri": "https://localhost:8080/",
          "height": 453
        },
        "id": "NqRPalHQWuuL",
        "outputId": "e608ba3d-ab2b-44e2-adc9-4363e2d17925"
      },
      "outputs": [
        {
          "data": {
            "image/png": "[encoded data removed]",
            "text/plain": [
              "<Figure size 600x400 with 1 Axes>"
            ]
          },
          "metadata": {},
          "output_type": "display_data"
        }
      ],
      "source": [
        "n_samples = 100\n",
        "\n",
        "plt.figure(figsize=(6, 4))\n",
        "plt.plot(y_test_inv[:n_samples], label='Actual', linewidth=2, color='blue')\n",
        "plt.plot(pred_test[:n_samples], label='Predicted', linewidth=2, color='red')\n",
        "plt.ylabel('Global_Horizontal_Radiation W/m²',)\n",
        "plt.xlabel('Time(1 hour)')\n",
        "plt.legend(fontsize=14)\n",
        "plt.legend(fontsize=14, bbox_to_anchor=(0.5, -0.2), loc='upper center', ncol=2)\n",
        "# Add a horizontal grid\n",
        "plt.grid(axis='y',linewidth=0.2)\n",
        "plt.savefig('/content/GRU-EO.png')\n"
      ]
    }
  ],
  "metadata": {
    "colab": {
      "provenance": [],
      "gpuType": "T4",
      "authorship_tag": "ABX9TyMVuMFnjbW5Y3/IBuOi4MZz",
      "include_colab_link": true
    },
    "kernelspec": {
      "display_name": "Python 3",
      "name": "python3"
    },
    "language_info": {
      "name": "python"
    },
    "accelerator": "GPU"
  },
  "nbformat": 4,
  "nbformat_minor": 0
}